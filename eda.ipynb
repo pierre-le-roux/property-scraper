{
 "cells": [
  {
   "cell_type": "markdown",
   "metadata": {},
   "source": [
    "# Imports"
   ]
  },
  {
   "cell_type": "code",
   "execution_count": 41,
   "metadata": {},
   "outputs": [],
   "source": [
    "# from requests_html import HTMLSession\n",
    "from bs4 import BeautifulSoup\n",
    "import requests\n",
    "import pandas as pd\n",
    "import numpy as np\n",
    "from pandas_profiling import ProfileReport"
   ]
  },
  {
   "cell_type": "markdown",
   "metadata": {},
   "source": [
    "# Tutorial on Beautiful Soup"
   ]
  },
  {
   "cell_type": "code",
   "execution_count": 5,
   "metadata": {},
   "outputs": [],
   "source": [
    "page=1\n",
    "URL = f\"https://www.property24.com/to-rent/western-cape/9/p{page}?PropertyCategory=House%2cApartmentOrFlat\"\n",
    "page = requests.get(URL)\n",
    "\n",
    "soup = BeautifulSoup(page.content, \"lxml\")"
   ]
  },
  {
   "cell_type": "code",
   "execution_count": 7,
   "metadata": {},
   "outputs": [],
   "source": [
    "properties = soup.find_all('div', class_='js_resultTile')\n",
    "# properties[4].find('span', class_='left rentalTerm p24_rentalTerm').text.strip()"
   ]
  },
  {
   "cell_type": "markdown",
   "metadata": {},
   "source": [
    "# Property24 Scraper"
   ]
  },
  {
   "cell_type": "code",
   "execution_count": 8,
   "metadata": {},
   "outputs": [],
   "source": [
    "columns = ['id', 'title', 'description', 'bedrooms', 'bathrooms', 'parking_spaces', 'floor_area', 'location', 'address', 'rental_term', 'price']\n",
    "df = pd.DataFrame([])\n",
    "page = 0\n",
    "\n",
    "while True:\n",
    "    try:\n",
    "        page += 1\n",
    "\n",
    "        # URL = f\"https://www.property24.com/apartments-to-rent/western-cape/9/p{page}\"\n",
    "        URL = f\"https://www.property24.com/to-rent/western-cape/9/p{page}?PropertyCategory=House%2cApartmentOrFlat\"\n",
    "        soup = BeautifulSoup(requests.get(URL).content, \"lxml\")\n",
    "\n",
    "        try:\n",
    "            soup.find('div', {'class': 'panel-body text-danger text-center'}).h4.text\n",
    "            break\n",
    "        except:\n",
    "            properties = soup.find_all('div', class_='js_resultTile')\n",
    "\n",
    "        for property in properties:\n",
    "            id = property['data-listing-number']\n",
    "            \n",
    "            try:\n",
    "                price = property.find('span', class_='p24_price')['content'].strip()\n",
    "            except:\n",
    "                try:\n",
    "                    price = property.find('div', class_='p24_price').text.strip().strip('R').replace(' ', '')\n",
    "                except:\n",
    "                    price = 'na'\n",
    "\n",
    "            try:\n",
    "                title = property.find('span', class_='p24_title').text.strip()\n",
    "            except:\n",
    "                try:\n",
    "                    title = property.find('div', class_='p24_description').text.strip()\n",
    "                except:\n",
    "                    title = 'na'\n",
    "\n",
    "            try:\n",
    "                location = property.find('span', class_='p24_location').text.strip()\n",
    "            except:\n",
    "                try:\n",
    "                    location = property.find('div', class_='p24_location').text.strip()\n",
    "                except:\n",
    "                    location = 'na'\n",
    "\n",
    "            try:\n",
    "                description = property.find('span', class_='p24_excerpt').text.strip()\n",
    "            except:\n",
    "                try:\n",
    "                    description = property.find('span', class_='p24_excerpt').text.strip()\n",
    "                except:\n",
    "                    description = 'na'\n",
    "\n",
    "            try:\n",
    "                property.find('span', class_='left rentalTerm p24_rentalTerm').text.strip()\n",
    "                rental_term = 'daily'\n",
    "            except:\n",
    "                rental_term = 'monthly'\n",
    "\n",
    "            try:\n",
    "                address = property.find('span', class_='p24_address').text.strip()\n",
    "            except:\n",
    "                address = 'na'\n",
    "\n",
    "            try:\n",
    "                bedrooms = property.find('span', {\"class\": \"p24_featureDetails\", 'title':'Bedrooms'}).text.strip()\n",
    "            except:\n",
    "                bedrooms = 'na'\n",
    "\n",
    "            try:\n",
    "                bathrooms = property.find('span', {\"class\": \"p24_featureDetails\", 'title':'Bathrooms'}).text.strip()\n",
    "            except:\n",
    "                bathrooms = 'na'\n",
    "\n",
    "            try:\n",
    "                parking_spaces = property.find('span', {\"class\": \"p24_featureDetails\", 'title':'Parking Spaces'}).text.strip()\n",
    "            except:\n",
    "                parking_spaces = 'na'\n",
    "\n",
    "            try:\n",
    "                floor_size = property.find('span', {\"class\": \"p24_size\", 'title':'Floor Size'}).text.strip().rstrip('m²').strip().replace(' ', '')\n",
    "            except:\n",
    "                floor_size = 'na'\n",
    "\n",
    "            temp = pd.DataFrame([[id, title, description, bedrooms, bathrooms, parking_spaces, floor_size, location, address, rental_term, price]], columns=columns)\n",
    "\n",
    "            df = pd.concat([df, temp], ignore_index=True)\n",
    "\n",
    "            del temp\n",
    "    \n",
    "    except Exception as ex:\n",
    "        print(ex)\n",
    "        print(\"probably last page:\", page)\n",
    "        break # exit `while` loop\n",
    "\n",
    "df.to_feather('western_cape_rentals.ftr')"
   ]
  },
  {
   "cell_type": "code",
   "execution_count": 42,
   "metadata": {},
   "outputs": [],
   "source": [
    "df = pd.read_feather('western_cape_rentals.ftr')"
   ]
  },
  {
   "cell_type": "code",
   "execution_count": 43,
   "metadata": {},
   "outputs": [],
   "source": [
    "df = df.replace('na', np.nan).copy()"
   ]
  },
  {
   "cell_type": "code",
   "execution_count": 44,
   "metadata": {},
   "outputs": [
    {
     "data": {
      "text/html": [
       "<div>\n",
       "<style scoped>\n",
       "    .dataframe tbody tr th:only-of-type {\n",
       "        vertical-align: middle;\n",
       "    }\n",
       "\n",
       "    .dataframe tbody tr th {\n",
       "        vertical-align: top;\n",
       "    }\n",
       "\n",
       "    .dataframe thead th {\n",
       "        text-align: right;\n",
       "    }\n",
       "</style>\n",
       "<table border=\"1\" class=\"dataframe\">\n",
       "  <thead>\n",
       "    <tr style=\"text-align: right;\">\n",
       "      <th></th>\n",
       "      <th>id</th>\n",
       "      <th>title</th>\n",
       "      <th>description</th>\n",
       "      <th>bedrooms</th>\n",
       "      <th>bathrooms</th>\n",
       "      <th>parking_spaces</th>\n",
       "      <th>floor_area</th>\n",
       "      <th>location</th>\n",
       "      <th>address</th>\n",
       "      <th>rental_term</th>\n",
       "      <th>price</th>\n",
       "    </tr>\n",
       "  </thead>\n",
       "  <tbody>\n",
       "    <tr>\n",
       "      <th>0</th>\n",
       "      <td>109197505</td>\n",
       "      <td>2 Bedroom Apartment</td>\n",
       "      <td>Luxury Apartment close to amenities, offering ...</td>\n",
       "      <td>2</td>\n",
       "      <td>1</td>\n",
       "      <td>NaN</td>\n",
       "      <td>66</td>\n",
       "      <td>Tyger Valley</td>\n",
       "      <td>NaN</td>\n",
       "      <td>monthly</td>\n",
       "      <td>8750</td>\n",
       "    </tr>\n",
       "    <tr>\n",
       "      <th>1</th>\n",
       "      <td>110988274</td>\n",
       "      <td>2 Bedroom Apartment</td>\n",
       "      <td>A large 2 bedroom apartment in wonderful condi...</td>\n",
       "      <td>2</td>\n",
       "      <td>1</td>\n",
       "      <td>2</td>\n",
       "      <td>NaN</td>\n",
       "      <td>Kenilworth</td>\n",
       "      <td>86 Rosmead Avenue</td>\n",
       "      <td>monthly</td>\n",
       "      <td>9500</td>\n",
       "    </tr>\n",
       "  </tbody>\n",
       "</table>\n",
       "</div>"
      ],
      "text/plain": [
       "          id                title  \\\n",
       "0  109197505  2 Bedroom Apartment   \n",
       "1  110988274  2 Bedroom Apartment   \n",
       "\n",
       "                                         description bedrooms bathrooms  \\\n",
       "0  Luxury Apartment close to amenities, offering ...        2         1   \n",
       "1  A large 2 bedroom apartment in wonderful condi...        2         1   \n",
       "\n",
       "  parking_spaces floor_area      location            address rental_term price  \n",
       "0            NaN         66  Tyger Valley                NaN     monthly  8750  \n",
       "1              2        NaN    Kenilworth  86 Rosmead Avenue     monthly  9500  "
      ]
     },
     "execution_count": 44,
     "metadata": {},
     "output_type": "execute_result"
    }
   ],
   "source": [
    "df.head(2)"
   ]
  },
  {
   "cell_type": "code",
   "execution_count": 47,
   "metadata": {},
   "outputs": [],
   "source": [
    "df.id = df.id.astype('int64')\n",
    "df.bedrooms = df.bedrooms.astype('float64')\n",
    "df.bathrooms = df.bathrooms.astype('float64')\n",
    "df.parking_spaces = df.parking_spaces.astype('float64')\n",
    "df.floor_area = df.floor_area.str.replace(' ', '')\n",
    "df.floor_area = df.floor_area.astype('float64')\n",
    "df.price = df.price.astype('float64')"
   ]
  },
  {
   "cell_type": "code",
   "execution_count": 50,
   "metadata": {},
   "outputs": [],
   "source": [
    "df.to_feather('western_cape_rentals_processed.ftr')"
   ]
  },
  {
   "cell_type": "code",
   "execution_count": 51,
   "metadata": {},
   "outputs": [
    {
     "name": "stderr",
     "output_type": "stream",
     "text": [
      "Summarize dataset: 100%|██████████| 62/62 [00:06<00:00,  9.31it/s, Completed]                             \n",
      "Generate report structure: 100%|██████████| 1/1 [00:02<00:00,  2.91s/it]\n",
      "Render HTML: 100%|██████████| 1/1 [00:00<00:00,  1.04it/s]\n",
      "Export report to file: 100%|██████████| 1/1 [00:00<00:00, 116.72it/s]\n"
     ]
    }
   ],
   "source": [
    "profile = ProfileReport(df, title=\"Pandas Profiling Report\", explorative=True)\n",
    "profile.to_file(\"Western Cape Rentals Processed.html\")"
   ]
  },
  {
   "cell_type": "code",
   "execution_count": null,
   "metadata": {},
   "outputs": [],
   "source": [
    "western_cape = \"https://www.property24.com/for-sale/all-cities/western-cape/9\"\n",
    "gauteng = \"https://www.property24.com/for-sale/all-cities/gauteng/1\""
   ]
  },
  {
   "cell_type": "code",
   "execution_count": null,
   "metadata": {},
   "outputs": [],
   "source": [
    "# Query Categories\n",
    "ACTIONS = [\"for-sale\", \"to-rent\"]\n",
    "PROPERTY_CATEGORIES = [\"House\", \"ApartmentOrFlat\", \"Townhouse\", \"VacantLandOrPlot\", \"Farm\", \"Commercial\", \"Industrial\"]\n",
    "PARKING_TYPES = [\"ParkingOrGarage\", \"GarageOnly\"]\n",
    "\n",
    "# Query Syntax\n",
    "QUERY = \"?\"\n",
    "OR = \"%2c\"\n",
    "AND = \"%26\"\n",
    "MIN_PRICE = \"pf%3d\"\n",
    "MAX_PRICE = \"pt%3d\"\n",
    "BEDROOMS = \"bd%3d\"\n",
    "BATHROOM = \"bth%3d\"\n",
    "PARKING_SPACES = \"ps%3d\"\n",
    "PARKING_TYPE = \"pst%3d\"\n",
    "\n",
    "# Query variables\n",
    "PROPERTY_CATEGORY = \"PropertyCategory=\"\n",
    "FILTER = \"sp=\""
   ]
  },
  {
   "cell_type": "code",
   "execution_count": 2,
   "metadata": {},
   "outputs": [],
   "source": [
    "URL = \"https://www.property24.com/to-rent/somerset-west-central/somerset-west/western-cape/9019/110768093?plId=967801&plt=3\"\n",
    "\n",
    "page = requests.get(URL)\n",
    "\n",
    "soup = BeautifulSoup(page.content, \"html.parser\")"
   ]
  },
  {
   "cell_type": "code",
   "execution_count": 3,
   "metadata": {},
   "outputs": [],
   "source": [
    "results = soup.find_all(\"div\", class_=\"p24_listingContent\")"
   ]
  },
  {
   "cell_type": "code",
   "execution_count": 4,
   "metadata": {},
   "outputs": [
    {
     "name": "stdout",
     "output_type": "stream",
     "text": [
      "R 8 500\n"
     ]
    }
   ],
   "source": [
    "for result in results:\n",
    "    price = result.find(\"div\", class_=\"p24_listingCard p24_listingFeaturesWrapper\")\n",
    "    # company_element = result.find(\"h3\", class_=\"company\")\n",
    "    # location_element = result.find(\"p\", class_=\"location\")\n",
    "\n",
    "    print(price.text.strip())"
   ]
  }
 ],
 "metadata": {
  "interpreter": {
   "hash": "04f7b9146d7123202a45014c2d888c22af271ea3af5474e057c7ad7298ce5de2"
  },
  "kernelspec": {
   "display_name": "Python 3.8.7 64-bit",
   "language": "python",
   "name": "python3"
  },
  "language_info": {
   "codemirror_mode": {
    "name": "ipython",
    "version": 3
   },
   "file_extension": ".py",
   "mimetype": "text/x-python",
   "name": "python",
   "nbconvert_exporter": "python",
   "pygments_lexer": "ipython3",
   "version": "3.8.7"
  },
  "orig_nbformat": 4
 },
 "nbformat": 4,
 "nbformat_minor": 2
}
