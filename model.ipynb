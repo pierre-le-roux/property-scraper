{
 "cells": [
  {
   "cell_type": "code",
   "execution_count": 70,
   "metadata": {},
   "outputs": [],
   "source": [
    "import pandas as pd\n",
    "import numpy as np\n",
    "from sklearn.preprocessing import StandardScaler\n",
    "from sklearn.preprocessing import OneHotEncoder\n",
    "from sklearn.preprocessing import OrdinalEncoder\n",
    "from sklearn.compose import ColumnTransformer\n",
    "from sklearn.pipeline import Pipeline\n",
    "from sklearn.impute import SimpleImputer\n",
    "from sklearn.model_selection import train_test_split, RepeatedKFold, cross_val_score\n",
    "from sklearn.linear_model import LinearRegression\n",
    "from sklearn.utils import estimator_html_repr\n",
    "from sklearn.metrics import mean_squared_error as MSE\n",
    "\n",
    "import xgboost as xgb"
   ]
  },
  {
   "cell_type": "code",
   "execution_count": 5,
   "metadata": {},
   "outputs": [],
   "source": [
    "df = pd.read_feather(\"western_cape_rentals_processed.ftr\")"
   ]
  },
  {
   "cell_type": "code",
   "execution_count": 8,
   "metadata": {},
   "outputs": [
    {
     "data": {
      "text/html": [
       "<div>\n",
       "<style scoped>\n",
       "    .dataframe tbody tr th:only-of-type {\n",
       "        vertical-align: middle;\n",
       "    }\n",
       "\n",
       "    .dataframe tbody tr th {\n",
       "        vertical-align: top;\n",
       "    }\n",
       "\n",
       "    .dataframe thead th {\n",
       "        text-align: right;\n",
       "    }\n",
       "</style>\n",
       "<table border=\"1\" class=\"dataframe\">\n",
       "  <thead>\n",
       "    <tr style=\"text-align: right;\">\n",
       "      <th></th>\n",
       "      <th>id</th>\n",
       "      <th>link</th>\n",
       "      <th>title</th>\n",
       "      <th>description</th>\n",
       "      <th>bedrooms</th>\n",
       "      <th>bathrooms</th>\n",
       "      <th>parking_spaces</th>\n",
       "      <th>floor_area</th>\n",
       "      <th>location</th>\n",
       "      <th>address</th>\n",
       "      <th>rental_term</th>\n",
       "      <th>price</th>\n",
       "    </tr>\n",
       "  </thead>\n",
       "  <tbody>\n",
       "    <tr>\n",
       "      <th>387</th>\n",
       "      <td>109763999</td>\n",
       "      <td>https://www.property24.com/to-rent/proteaville...</td>\n",
       "      <td>5 Bedroom House</td>\n",
       "      <td>Spacious, modern renovated 5 bedroom family ho...</td>\n",
       "      <td>5.0</td>\n",
       "      <td>4.0</td>\n",
       "      <td>2.0</td>\n",
       "      <td>NaN</td>\n",
       "      <td>Proteaville</td>\n",
       "      <td>48 Protea Road, Proteaville Durbanville</td>\n",
       "      <td>monthly</td>\n",
       "      <td>35000.0</td>\n",
       "    </tr>\n",
       "    <tr>\n",
       "      <th>5565</th>\n",
       "      <td>109686608</td>\n",
       "      <td>https://www.property24.com/to-rent/bosbell/bel...</td>\n",
       "      <td>6 Bedroom House</td>\n",
       "      <td>Offers a unique mature house on a large erf. O...</td>\n",
       "      <td>6.0</td>\n",
       "      <td>6.0</td>\n",
       "      <td>5.0</td>\n",
       "      <td>NaN</td>\n",
       "      <td>Bosbell</td>\n",
       "      <td>2 Bloem Street</td>\n",
       "      <td>monthly</td>\n",
       "      <td>25000.0</td>\n",
       "    </tr>\n",
       "    <tr>\n",
       "      <th>2188</th>\n",
       "      <td>110978834</td>\n",
       "      <td>https://www.property24.com/to-rent/steynsrust/...</td>\n",
       "      <td>2 Bedroom House</td>\n",
       "      <td>SHORT  TERM\\nUnfurnished home available from A...</td>\n",
       "      <td>2.0</td>\n",
       "      <td>1.5</td>\n",
       "      <td>2.0</td>\n",
       "      <td>NaN</td>\n",
       "      <td>Steynsrust</td>\n",
       "      <td>None</td>\n",
       "      <td>monthly</td>\n",
       "      <td>8500.0</td>\n",
       "    </tr>\n",
       "  </tbody>\n",
       "</table>\n",
       "</div>"
      ],
      "text/plain": [
       "             id                                               link  \\\n",
       "387   109763999  https://www.property24.com/to-rent/proteaville...   \n",
       "5565  109686608  https://www.property24.com/to-rent/bosbell/bel...   \n",
       "2188  110978834  https://www.property24.com/to-rent/steynsrust/...   \n",
       "\n",
       "                title                                        description  \\\n",
       "387   5 Bedroom House  Spacious, modern renovated 5 bedroom family ho...   \n",
       "5565  6 Bedroom House  Offers a unique mature house on a large erf. O...   \n",
       "2188  2 Bedroom House  SHORT  TERM\\nUnfurnished home available from A...   \n",
       "\n",
       "      bedrooms  bathrooms  parking_spaces  floor_area     location  \\\n",
       "387        5.0        4.0             2.0         NaN  Proteaville   \n",
       "5565       6.0        6.0             5.0         NaN      Bosbell   \n",
       "2188       2.0        1.5             2.0         NaN   Steynsrust   \n",
       "\n",
       "                                      address rental_term    price  \n",
       "387   48 Protea Road, Proteaville Durbanville     monthly  35000.0  \n",
       "5565                           2 Bloem Street     monthly  25000.0  \n",
       "2188                                     None     monthly   8500.0  "
      ]
     },
     "execution_count": 8,
     "metadata": {},
     "output_type": "execute_result"
    }
   ],
   "source": [
    "df.sample(3)"
   ]
  },
  {
   "cell_type": "code",
   "execution_count": 96,
   "metadata": {},
   "outputs": [],
   "source": [
    "sub_df = df[~(df.price.isna()) & (df.price <= 15000)].fillna(0).copy()\n",
    "\n",
    "X = pd.get_dummies(sub_df.drop(columns=['id', 'link', 'description', 'title', 'address', 'price'])).values\n",
    "y = sub_df.price.values"
   ]
  },
  {
   "cell_type": "code",
   "execution_count": 15,
   "metadata": {},
   "outputs": [],
   "source": [
    "# X_train, X_test, y_train, y_test = train_test_split(X, y, test_size=0.33, random_state=12)"
   ]
  },
  {
   "cell_type": "code",
   "execution_count": 97,
   "metadata": {},
   "outputs": [],
   "source": [
    "# define model\n",
    "model = xgb.XGBRegressor()\n",
    "\n",
    "# define model evaluation method\n",
    "cv = RepeatedKFold(n_splits=10, n_repeats=3, random_state=1)\n",
    "# evaluate model\n",
    "scores = cross_val_score(model, X, y, scoring='neg_mean_absolute_error', cv=cv, n_jobs=-1)"
   ]
  },
  {
   "cell_type": "code",
   "execution_count": 98,
   "metadata": {},
   "outputs": [
    {
     "name": "stdout",
     "output_type": "stream",
     "text": [
      "Mean MAE: 1405.163 (48.307)\n"
     ]
    }
   ],
   "source": [
    "# force scores to be positive\n",
    "scores = np.absolute(scores)\n",
    "print('Mean MAE: %.3f (%.3f)' % (scores.mean(), scores.std()) )"
   ]
  },
  {
   "cell_type": "code",
   "execution_count": 89,
   "metadata": {},
   "outputs": [],
   "source": [
    "sub_df = df[~(df.price.isna()) & (df.price <= 15000)].fillna(0).copy()\n",
    "\n",
    "X = pd.get_dummies(sub_df.drop(columns=['id', 'link', 'description', 'title', 'address', 'price'])).values\n",
    "y = sub_df.price.values\n",
    "\n",
    "# Splitting\n",
    "train_X, test_X, train_y, test_y = train_test_split(X, y, \n",
    "                      test_size = 0.3, random_state = 12)\n",
    "\n",
    "# Train and test set are converted to DMatrix objects,\n",
    "# as it is required by learning API.\n",
    "train_dmatrix = xgb.DMatrix(data = train_X, label = train_y)\n",
    "test_dmatrix = xgb.DMatrix(data = test_X, label = test_y)"
   ]
  },
  {
   "cell_type": "code",
   "execution_count": 90,
   "metadata": {},
   "outputs": [],
   "source": [
    "# Parameter dictionary specifying base learner\n",
    "param = {\"booster\":\"gblinear\", \"objective\":\"reg:squarederror\"}\n",
    "  \n",
    "xgb_r = xgb.train(params = param, dtrain = train_dmatrix, num_boost_round = 10)\n",
    "pred = xgb_r.predict(test_dmatrix)"
   ]
  },
  {
   "cell_type": "code",
   "execution_count": 86,
   "metadata": {},
   "outputs": [
    {
     "data": {
      "text/plain": [
       "'https://www.property24.com/to-rent/victoria-park/somerset-west/western-cape/9020/110979894'"
      ]
     },
     "execution_count": 86,
     "metadata": {},
     "output_type": "execute_result"
    }
   ],
   "source": [
    "df[df.price == 1500000].values[0][1]"
   ]
  },
  {
   "cell_type": "code",
   "execution_count": 91,
   "metadata": {},
   "outputs": [
    {
     "name": "stdout",
     "output_type": "stream",
     "text": [
      "RMSE :  2535.319194\n"
     ]
    }
   ],
   "source": [
    "# RMSE Computation\n",
    "rmse = np.sqrt(MSE(test_y, pred))\n",
    "print(\"RMSE : % f\" %(rmse))"
   ]
  },
  {
   "cell_type": "code",
   "execution_count": null,
   "metadata": {},
   "outputs": [],
   "source": [
    "dtrain = xgb.DMatrix(X_train, label=y_train)"
   ]
  },
  {
   "cell_type": "code",
   "execution_count": null,
   "metadata": {},
   "outputs": [],
   "source": [
    "xgb.train(params, dtrain, num_boost_round=10, evals=(), obj=None, feval=None, \n",
    "          maximize=False, early_stopping_rounds=None, evals_result=None, \n",
    "          verbose_eval=True, xgb_model=None, callbacks=None, learning_rates=None)"
   ]
  }
 ],
 "metadata": {
  "interpreter": {
   "hash": "04f7b9146d7123202a45014c2d888c22af271ea3af5474e057c7ad7298ce5de2"
  },
  "kernelspec": {
   "display_name": "Python 3.8.7 64-bit",
   "language": "python",
   "name": "python3"
  },
  "language_info": {
   "codemirror_mode": {
    "name": "ipython",
    "version": 3
   },
   "file_extension": ".py",
   "mimetype": "text/x-python",
   "name": "python",
   "nbconvert_exporter": "python",
   "pygments_lexer": "ipython3",
   "version": "3.8.7"
  },
  "orig_nbformat": 4
 },
 "nbformat": 4,
 "nbformat_minor": 2
}
